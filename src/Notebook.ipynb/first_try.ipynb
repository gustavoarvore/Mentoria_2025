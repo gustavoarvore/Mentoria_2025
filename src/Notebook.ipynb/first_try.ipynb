{
 "cells": [
  {
   "cell_type": "code",
   "execution_count": null,
   "id": "f647a591",
   "metadata": {},
   "outputs": [
    {
     "ename": "",
     "evalue": "",
     "output_type": "error",
     "traceback": [
      "\u001b[1;31mRunning cells with '.venv (Python 3.10.10)' requires the ipykernel package.\n",
      "\u001b[1;31mInstall 'ipykernel' into the Python environment. \n",
      "\u001b[1;31mCommand: 'c:/Users/holyc/Documents/vscode/python/mentoria/Mentoria_2025/.venv/Scripts/python.exe -m pip install ipykernel -U --force-reinstall'"
     ]
    }
   ],
   "source": [
    "print(\"meu primeiro codigo jupyter\")"
   ]
  },
  {
   "cell_type": "code",
   "execution_count": null,
   "id": "5ba2e452",
   "metadata": {},
   "outputs": [],
   "source": [
    "import pandas as pd\n",
    "import matplotlib.pyplot as plt\n",
    "data = {'Nome': ['Alice', 'Bob', 'Charlie'], 'Idade': [25, 30, 35]}\n",
    "df = pd.DataFrame(data)\n",
    "print(df)"
   ]
  },
  {
   "cell_type": "code",
   "execution_count": null,
   "id": "b380abd3",
   "metadata": {},
   "outputs": [],
   "source": [
    "import pandas as pd\n",
    "import matplotlib.pyplot as plt\n",
    "import seaborn as sns\n",
    "import json\n",
    "\n",
    "# 1. Carregar os dados do arquivo JSON\n",
    "with open('./data/vagas_gupy.json', 'r', encoding='utf-8') as f:\n",
    "    dados = json.load(f)\n",
    "\n",
    "# Converte a lista de vagas em um DataFrame\n",
    "df = pd.DataFrame(dados['vagas'])\n",
    "\n",
    "# 2. Análise inicial\n",
    "print(\"Primeiras linhas:\\n\", df.head())\n",
    "print(\"\\nEstatísticas descritivas:\\n\", df.describe())\n",
    "print(\"\\nTipos de dados:\\n\", df.dtypes)\n",
    "print(\"\\nValores faltantes:\\n\", df.isnull().sum())\n",
    "\n",
    "# 3. Visualizações\n",
    "# Exemplo: Distribuição de uma coluna numérica (se houver)\n",
    "if 'salario' in df.columns:  # Substitua 'salario' pela coluna que você deseja analisar\n",
    "    plt.figure(figsize=(10, 6))\n",
    "    sns.histplot(df['salario'], kde=True)\n",
    "    plt.title(\"Distribuição de Salários\")\n",
    "    plt.show()\n",
    "\n",
    "# Exemplo: Contagem de categorias (se houver uma coluna categórica)\n",
    "if 'categoria' in df.columns:  # Substitua 'categoria' pela coluna que você deseja analisar\n",
    "    plt.figure(figsize=(10, 6))\n",
    "    sns.countplot(data=df, y='categoria', order=df['categoria'].value_counts().index)\n",
    "    plt.title(\"Contagem de Vagas por Categoria\")\n",
    "    plt.show()\n",
    "\n",
    "# Exemplo: Matriz de correlação (se houver colunas numéricas)\n",
    "if len(df.select_dtypes(include='number').columns) > 1:\n",
    "    plt.figure(figsize=(10, 6))\n",
    "    sns.heatmap(df.corr(), annot=True, cmap='coolwarm')\n",
    "    plt.title(\"Matriz de Correlação\")\n",
    "    plt.show()\n"
   ]
  }
 ],
 "metadata": {
  "kernelspec": {
   "display_name": ".venv",
   "language": "python",
   "name": "python3"
  },
  "language_info": {
   "name": "python",
   "version": "3.10.10"
  }
 },
 "nbformat": 4,
 "nbformat_minor": 5
}
